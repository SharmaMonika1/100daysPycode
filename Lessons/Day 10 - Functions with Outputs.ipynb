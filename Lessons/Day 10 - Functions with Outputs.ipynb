{
 "cells": [
  {
   "cell_type": "markdown",
   "id": "371e378c",
   "metadata": {},
   "source": [
    "Functions with Outputs, Docstrings"
   ]
  },
  {
   "cell_type": "code",
   "execution_count": 1,
   "id": "83dd369d",
   "metadata": {},
   "outputs": [
    {
     "name": "stdout",
     "output_type": "stream",
     "text": [
      "monika MONIKA\n",
      "Monika Monika\n"
     ]
    }
   ],
   "source": [
    "def format_name(f_name,l_name):\n",
    "    format_f_name =f_name.title()\n",
    "    format_l_name =l_name.title()\n",
    "    print(f\"{f_name} {l_name}\")\n",
    "    print(f\"{format_f_name} {format_l_name}\")\n",
    "\n",
    "format_name(\"monika\",\"MONIKA\")"
   ]
  },
  {
   "cell_type": "code",
   "execution_count": 2,
   "id": "87652114",
   "metadata": {},
   "outputs": [
    {
     "name": "stdout",
     "output_type": "stream",
     "text": [
      "Monika Monika\n"
     ]
    }
   ],
   "source": [
    "def format_name(f_name,l_name):\n",
    "    format_f_name =f_name.title()\n",
    "    format_l_name =l_name.title()\n",
    "    return f\"{format_f_name} {format_l_name}\"\n",
    "\n",
    "print(format_name(\"monika\",\"MONIKA\"))"
   ]
  },
  {
   "cell_type": "markdown",
   "id": "30fb826c",
   "metadata": {},
   "source": [
    "You can use return key to get output from the function. We have been using the functions that returns the value like len(), title(), etc.\n",
    "Return keyword ends the function. The codes after return is not going to run. \n",
    "Early return -> Esc usually used in conditional statements like if statements"
   ]
  },
  {
   "cell_type": "code",
   "execution_count": 6,
   "id": "22402046",
   "metadata": {},
   "outputs": [
    {
     "name": "stdout",
     "output_type": "stream",
     "text": [
      "2029\n",
      "2\n",
      "28\n"
     ]
    }
   ],
   "source": [
    "def is_leap(year):\n",
    "    if year % 4 == 0:\n",
    "        if year % 100 == 0:\n",
    "            if year % 400 == 0:\n",
    "                return True\n",
    "            else:\n",
    "                return False\n",
    "        else:\n",
    "            return True\n",
    "    else:\n",
    "        return False\n",
    "    \n",
    "def days_in_month(year, month):\n",
    "    month_days = [31, 28, 31, 30, 31, 30, 31, 31, 30, 31, 30, 31] \n",
    "    if is_leap(year) and month==2:\n",
    "        return 29\n",
    "    else:\n",
    "        return month_days[month-1]\n",
    "    \n",
    "year = int(input()) # Enter a year\n",
    "month = int(input()) # Enter a month\n",
    "days = days_in_month(year, month)\n",
    "print(days)\n",
    "\n"
   ]
  },
  {
   "cell_type": "code",
   "execution_count": null,
   "id": "58610bb2",
   "metadata": {},
   "outputs": [],
   "source": [
    "#Docstring\n",
    "def format_name(f_name,l_name):\n",
    "    \"\"\"Take a first and last name and format it to return the title case version of the name\"\"\"\n",
    "    format_f_name =f_name.title()\n",
    "    format_l_name =l_name.title()\n",
    "    return f\"{format_f_name} {format_l_name}\"\n",
    "\n",
    "print(format_name(\"monika\",\"MONIKA\"))"
   ]
  }
 ],
 "metadata": {
  "kernelspec": {
   "display_name": "Python 3 (ipykernel)",
   "language": "python",
   "name": "python3"
  },
  "language_info": {
   "codemirror_mode": {
    "name": "ipython",
    "version": 3
   },
   "file_extension": ".py",
   "mimetype": "text/x-python",
   "name": "python",
   "nbconvert_exporter": "python",
   "pygments_lexer": "ipython3",
   "version": "3.11.5"
  }
 },
 "nbformat": 4,
 "nbformat_minor": 5
}
