{
 "cells": [
  {
   "cell_type": "code",
   "execution_count": null,
   "id": "cf18e6b3",
   "metadata": {},
   "outputs": [],
   "source": [
    " #Nesting :{Key: [List],Key2:{dict},}\n",
    "capitals= {\"France\":\"Paris\",\"Germany\":\"Berlin\"}\n",
    "travel_log = {\"France\":{\"cities_visited\":[\"Paris\",\"Lille\",\"Dijon\"],\"total_visits\":12},\n",
    "            \"Germany\":{\"cities_visited\":[\"Berlin\",\"Hamburg\",\"Stuttgart\"],\"total_visits\":5}}\n",
    "\n",
    "travel_log = [\n",
    "    {\"country\":\"France\",\n",
    "     \"cities_visited\":[\"Paris\",\"Lille\",\"Dijon\"],\n",
    "     \"total_visits\":12\n",
    "    },\n",
    "    {\"country\":\"Germany\",\n",
    "     \"cities_visited\":[\"Berlin\",\"Hamburg\",\"Stuttgart\"],\n",
    "     \"total_visits\":5\n",
    "    }\n",
    "]\n"
   ]
  },
  {
   "cell_type": "code",
   "execution_count": 9,
   "id": "9c0da318",
   "metadata": {},
   "outputs": [
    {
     "name": "stdout",
     "output_type": "stream",
     "text": [
      "{'Harry': 'Exceeds Expectations', 'Ron': 'Acceptable', 'Hermione': 'Outstanding', 'Draco': 'Acceptable', 'Neville': 'Fail'}\n"
     ]
    }
   ],
   "source": [
    "student_scores = {\n",
    "  \"Harry\": 81,\n",
    "  \"Ron\": 78,\n",
    "  \"Hermione\": 99, \n",
    "  \"Draco\": 74,\n",
    "  \"Neville\": 62,\n",
    "}\n",
    "# 🚨 Don't change the code above 👆\n",
    "# TODO-1: Create an empty dictionary called student_grades.\n",
    "student_grades={}\n",
    "\n",
    "# TODO-2: Write your code below to add the grades to student_grades.👇\n",
    "for student in student_scores:\n",
    "  if 91 <= student_scores[student] <= 100:       \n",
    "     student_grades[student]= \"Outstanding\"\n",
    "  elif 81 <= student_scores[student] <= 90:       \n",
    "     student_grades[student]= \"Exceeds Expectations\"\n",
    "  elif 71 <= student_scores[student] <= 80:       \n",
    "     student_grades[student]= \"Acceptable\"\n",
    "  else:\n",
    "    student_grades[student]= \"Fail\"\n",
    "\n",
    "# 🚨 Don't change the code below 👇\n",
    "print(student_grades)"
   ]
  },
  {
   "cell_type": "code",
   "execution_count": 8,
   "id": "84f51c13",
   "metadata": {},
   "outputs": [
    {
     "name": "stdout",
     "output_type": "stream",
     "text": [
      "{'Bug': 'An error in a program that prevents the program from running as expected.', 'Function': 'A piece of code that you can easily call over and over again.'}\n",
      "{'Bug': 'An error in a program that prevents the program from running as expected.', 'Function': 'A piece of code that you can easily call over and over again.', 'Loop': 'The action of doing something over and over again.'}\n",
      "{}\n",
      "{'Bug': 'An error in a program that prevents the program from running as expected.', 'Function': 'A piece of code that you can easily call over and over again.', 'Loop': 'The action of doing something over and over again.'}\n",
      "{}\n",
      "{'Bug': 'A moth in your computer', 'Function': 'A piece of code that you can easily call over and over again.', 'Loop': 'The action of doing something over and over again.'}\n",
      "Bug\n",
      "Function\n",
      "Loop\n",
      "Bug\n",
      "A moth in your computer\n",
      "Function\n",
      "A piece of code that you can easily call over and over again.\n",
      "Loop\n",
      "The action of doing something over and over again.\n"
     ]
    }
   ],
   "source": [
    "programming_dictionary = {\"Bug\": \"An error in a program that prevents the program from running as expected.\", \n",
    "                          \"Function\": \"A piece of code that you can easily call over and over again.\"}\n",
    "print(programming_dictionary)\n",
    "programming_dictionary[\"Loop\"]= \"The action of doing something over and over again.\"\n",
    "print(programming_dictionary)\n",
    "\n",
    "empty_dictionary = {}\n",
    "print(empty_dictionary)\n",
    "\n",
    "program_dictionary =programming_dictionary\n",
    "print(program_dictionary)\n",
    "\n",
    "program_dictionary = {}\n",
    "print(program_dictionary)\n",
    "\n",
    "programming_dictionary[\"Bug\"]= \"A moth in your computer\"\n",
    "print(programming_dictionary)\n",
    "\n",
    "for thing in programming_dictionary:\n",
    "    print(thing)\n",
    "\n",
    "for key in programming_dictionary:\n",
    "    print(key)\n",
    "    print(programming_dictionary[key])"
   ]
  },
  {
   "cell_type": "code",
   "execution_count": 32,
   "id": "1cc9ae47",
   "metadata": {},
   "outputs": [
    {
     "name": "stdout",
     "output_type": "stream",
     "text": [
      "What is your name?: Divesh\n",
      "What is you bid?$13\n",
      "Are there any other bidders? Type 'yes' or 'no'.\n",
      "no\n",
      "The highest bidder is Divesh with bid amount $13\n"
     ]
    }
   ],
   "source": [
    "from art import logo_auction\n",
    "from IPython.display import clear_output\n",
    "\n",
    "print(logo_auction)\n",
    "print(\"Welcome to the secret auction program.\")\n",
    "is_bid= True\n",
    "bid_dictionary={}\n",
    "\n",
    "while is_bid:\n",
    "    name = input(\"What is your name?: \")\n",
    "    bid = int(input(\"What is you bid?$\"))\n",
    "    new_bidder= input(\"Are there any other bidders? Type 'yes' or 'no'.\\n\")\n",
    "    bid_dictionary[name]=bid\n",
    "    if new_bidder == 'yes':\n",
    "        clear_output(wait=False)\n",
    "        is_bid=True\n",
    "    elif new_bidder == 'no':        \n",
    "        is_bid=False\n",
    "        find_highest_bidder(bid_dictionary)\n",
    "        print(f\"The highest bidder is {is_highest_bidder} with bid amount ${is_highest_bid}\")\n",
    "def find_highest_bidder(dictionary):\n",
    "    is_highest_bid = 0\n",
    "    is_highest_bidder = ''\n",
    "    for bidder in dictionary:\n",
    "        if diction[key] > is_highest_bid:\n",
    "            is_highest_bid =  dictionary[key]\n",
    "            is_highest_bidder =  bidder"
   ]
  },
  {
   "cell_type": "code",
   "execution_count": null,
   "id": "349001a9",
   "metadata": {},
   "outputs": [],
   "source": []
  },
  {
   "cell_type": "code",
   "execution_count": null,
   "id": "f7984937",
   "metadata": {},
   "outputs": [],
   "source": []
  }
 ],
 "metadata": {
  "kernelspec": {
   "display_name": "Python 3 (ipykernel)",
   "language": "python",
   "name": "python3"
  },
  "language_info": {
   "codemirror_mode": {
    "name": "ipython",
    "version": 3
   },
   "file_extension": ".py",
   "mimetype": "text/x-python",
   "name": "python",
   "nbconvert_exporter": "python",
   "pygments_lexer": "ipython3",
   "version": "3.11.5"
  }
 },
 "nbformat": 4,
 "nbformat_minor": 5
}
