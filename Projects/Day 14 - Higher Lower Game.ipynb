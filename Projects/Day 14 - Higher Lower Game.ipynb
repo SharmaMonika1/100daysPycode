{
 "cells": [
  {
   "cell_type": "code",
   "execution_count": 5,
   "id": "804c4b02",
   "metadata": {},
   "outputs": [
    {
     "name": "stdout",
     "output_type": "stream",
     "text": [
      "\n",
      "    __  ___       __             \n",
      "   / / / (_)___ _/ /_  ___  _____\n",
      "  / /_/ / / __ `/ __ \\/ _ \\/ ___/\n",
      " / __  / / /_/ / / / /  __/ /    \n",
      "/_/ ///_/\\__, /_/ /_/\\___/_/     \n",
      "   / /  /____/_      _____  _____\n",
      "  / /   / __ \\ | /| / / _ \\/ ___/\n",
      " / /___/ /_/ / |/ |/ /  __/ /    \n",
      "/_____/\\____/|__/|__/\\___/_/     \n",
      "\n",
      "Sorry, that's wrong. Final score: 2\n"
     ]
    }
   ],
   "source": [
    "import art\n",
    "from higher_lower_game_data import data\n",
    "from IPython.display import clear_output\n",
    "import random\n",
    "\n",
    "def compare(compare_1,compare_2):\n",
    "    if compare_1 > compare_2:\n",
    "        return \"A\"\n",
    "    elif compare_1 < compare_2:\n",
    "        return \"B\"\n",
    "    else:\n",
    "        return \"Equal\"\n",
    "\n",
    "def calc_score(user_answer,actual_answer,highest_score):\n",
    "    if user_answer == actual_answer:\n",
    "        score =  highest_score + 1\n",
    "        print(f\"You're right! Current Score: {score}\")\n",
    "        return score\n",
    "    else:\n",
    "        print(f\"Sorry, that's wrong. Final score: {highest_score}\")\n",
    "        return highest_score\n",
    "\n",
    "def game():\n",
    "    compare_1=compare_2 =compared_list= {}\n",
    "    highest_score =0\n",
    "    print(art.logo_highlow)\n",
    "    print()\n",
    "    game_over = False\n",
    "    compare_2=random.choice(data)\n",
    "    while not game_over:\n",
    "        compare_1=compare_2\n",
    "        print(f\"Compare A:{compare_1['name']}, {compare_1['description']}, from {compare_1['country']}.\")\n",
    "        print(art.vs)\n",
    "        compare_2=random.choice(data)\n",
    "        while compare_1 == compare_2:\n",
    "            compare_2=random.choice(data)\n",
    "        print(f\"Against B:{compare_2['name']}, {compare_2['description']}, from {compare_2['country']}.\")\n",
    "        user_answer = input(\"Who has more followers? Type 'A' or 'B': \").upper()\n",
    "        clear_output(wait = False)\n",
    "        print(art.logo_highlow)\n",
    "        actual_answer = compare(compare_1['follower_count'],compare_2['follower_count'])\n",
    "        calculated_score = calc_score(user_answer,actual_answer,highest_score)\n",
    "        if  calculated_score == highest_score:\n",
    "            game_over = True\n",
    "        else:\n",
    "            highest_score = calculated_score\n",
    "\n",
    "game()"
   ]
  }
 ],
 "metadata": {
  "kernelspec": {
   "display_name": "Python 3 (ipykernel)",
   "language": "python",
   "name": "python3"
  },
  "language_info": {
   "codemirror_mode": {
    "name": "ipython",
    "version": 3
   },
   "file_extension": ".py",
   "mimetype": "text/x-python",
   "name": "python",
   "nbconvert_exporter": "python",
   "pygments_lexer": "ipython3",
   "version": "3.11.5"
  }
 },
 "nbformat": 4,
 "nbformat_minor": 5
}
