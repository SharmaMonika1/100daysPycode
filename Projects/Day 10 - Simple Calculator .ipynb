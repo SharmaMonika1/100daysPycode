{
 "cells": [
  {
   "cell_type": "markdown",
   "id": "fc323b9f",
   "metadata": {},
   "source": [
    "Calculates only 2 values"
   ]
  },
  {
   "cell_type": "code",
   "execution_count": 16,
   "id": "64c03d24",
   "metadata": {},
   "outputs": [
    {
     "name": "stdout",
     "output_type": "stream",
     "text": [
      "\n",
      " _____________________\n",
      "|  _________________  |\n",
      "| | Pythonista   0. | |  .----------------.  .----------------.  .----------------.  .----------------. \n",
      "| |_________________| | | .--------------. || .--------------. || .--------------. || .--------------. |\n",
      "|  ___ ___ ___   ___  | | |     ______   | || |      __      | || |   _____      | || |     ______   | |\n",
      "| | 7 | 8 | 9 | | + | | | |   .' ___  |  | || |     /  \\     | || |  |_   _|     | || |   .' ___  |  | |\n",
      "| |___|___|___| |___| | | |  / .'   \\_|  | || |    / /\\ \\    | || |    | |       | || |  / .'   \\_|  | |\n",
      "| | 4 | 5 | 6 | | - | | | |  | |         | || |   / ____ \\   | || |    | |   _   | || |  | |         | |\n",
      "| |___|___|___| |___| | | |  \\ `.___.'\\  | || | _/ /    \\ \\_ | || |   _| |__/ |  | || |  \\ `.___.'\\  | |\n",
      "| | 1 | 2 | 3 | | x | | | |   `._____.'  | || ||____|  |____|| || |  |________|  | || |   `._____.'  | |\n",
      "| |___|___|___| |___| | | |              | || |              | || |              | || |              | |\n",
      "| | . | 0 | = | | / | | | '--------------' || '--------------' || '--------------' || '--------------' |\n",
      "| |___|___|___| |___| |  '----------------'  '----------------'  '----------------'  '----------------' \n",
      "|_____________________|\n",
      "\n",
      "What's the first number?: 5\n",
      "+\n",
      "-\n",
      "*\n",
      "/\n",
      "Pick an operation from the line above:/\n",
      "What's the second number?: 2\n",
      "5 / 2 = 2.5\n"
     ]
    }
   ],
   "source": [
    "from art import logo_calc\n",
    "print(logo_calc)\n",
    "\n",
    "def add(n1,n2):\n",
    "    return n1+n2\n",
    "def subtract(n1,n2):\n",
    "    return n1-n2\n",
    "def multiply(n1,n2):\n",
    "    return n1*n2\n",
    "def divide(n1,n2):\n",
    "    return n1/n2\n",
    "\n",
    "operations={\n",
    "    \"+\":add,\n",
    "    \"-\":subtract,\n",
    "    \"*\":multiply,\n",
    "    \"/\":divide\n",
    "}\n",
    "\n",
    "num1 = int(input(\"What's the first number?: \"))\n",
    "for symbol in operations:\n",
    "    print(symbol)\n",
    "operation_symbol = input(\"Pick an operation from the line above:\")\n",
    "num2 = int(input(\"What's the second number?: \"))\n",
    "answer = operations[operation_symbol](num1,num2)\n",
    "print(f\"{num1} {operation_symbol} {num2} = {answer}\")\n"
   ]
  },
  {
   "cell_type": "markdown",
   "id": "f5e50946",
   "metadata": {},
   "source": [
    "Calculates multiple value until you say no."
   ]
  },
  {
   "cell_type": "code",
   "execution_count": 30,
   "id": "9e4c5858",
   "metadata": {},
   "outputs": [
    {
     "name": "stdout",
     "output_type": "stream",
     "text": [
      "\n",
      " _____________________\n",
      "|  _________________  |\n",
      "| | Pythonista   0. | |  .----------------.  .----------------.  .----------------.  .----------------. \n",
      "| |_________________| | | .--------------. || .--------------. || .--------------. || .--------------. |\n",
      "|  ___ ___ ___   ___  | | |     ______   | || |      __      | || |   _____      | || |     ______   | |\n",
      "| | 7 | 8 | 9 | | + | | | |   .' ___  |  | || |     /  \\     | || |  |_   _|     | || |   .' ___  |  | |\n",
      "| |___|___|___| |___| | | |  / .'   \\_|  | || |    / /\\ \\    | || |    | |       | || |  / .'   \\_|  | |\n",
      "| | 4 | 5 | 6 | | - | | | |  | |         | || |   / ____ \\   | || |    | |   _   | || |  | |         | |\n",
      "| |___|___|___| |___| | | |  \\ `.___.'\\  | || | _/ /    \\ \\_ | || |   _| |__/ |  | || |  \\ `.___.'\\  | |\n",
      "| | 1 | 2 | 3 | | x | | | |   `._____.'  | || ||____|  |____|| || |  |________|  | || |   `._____.'  | |\n",
      "| |___|___|___| |___| | | |              | || |              | || |              | || |              | |\n",
      "| | . | 0 | = | | / | | | '--------------' || '--------------' || '--------------' || '--------------' |\n",
      "| |___|___|___| |___| |  '----------------'  '----------------'  '----------------'  '----------------' \n",
      "|_____________________|\n",
      "\n",
      "What's the first number?: 2.5\n",
      "+\n",
      "-\n",
      "*\n",
      "/\n",
      "Pick an operation from the line above:/\n",
      "What's the next number?: 2\n",
      "2.5 / 2.0 = 1.25\n",
      "Type 'y' to continue calculating with {answer}, or type 'n' to exit: n\n",
      "Do you want to do a new calculation?Type 'y' to continue, or type 'n' to exit: n\n",
      "Goodbye!\n"
     ]
    }
   ],
   "source": [
    "from art import logo_calc\n",
    "print(logo_calc)\n",
    "\n",
    "def add(n1,n2):\n",
    "    return n1+n2\n",
    "def subtract(n1,n2):\n",
    "    return n1-n2\n",
    "def multiply(n1,n2):\n",
    "    return n1*n2\n",
    "def divide(n1,n2):\n",
    "    return n1/n2\n",
    "\n",
    "operations={\n",
    "    \"+\":add,\n",
    "    \"-\":subtract,\n",
    "    \"*\":multiply,\n",
    "    \"/\":divide\n",
    "}\n",
    "def calculator():\n",
    "    num1 = float(input(\"What's the first number?: \"))\n",
    "    for symbol in operations:\n",
    "        print(symbol)\n",
    "\n",
    "    should_continue=True\n",
    "\n",
    "    while should_continue:\n",
    "        operation_symbol = input(\"Pick an operation from the line above:\")\n",
    "        num2 = float(input(\"What's the next number?: \"))\n",
    "        answer = operations[operation_symbol](num1,num2)\n",
    "        print(f\"{num1} {operation_symbol} {num2} = {answer}\")\n",
    "        if input(\"Type 'y' to continue calculating with {answer}, or type 'n' to exit: \") == 'y':\n",
    "            should_continue=True\n",
    "            num1=answer\n",
    "        else:\n",
    "            should_continue=False\n",
    "            if input(\"Do you want to do a new calculation?Type 'y' to continue, or type 'n' to exit: \") == 'y':\n",
    "                calculator()\n",
    "            else:\n",
    "                print(\"Goodbye!\")\n",
    "calculator()\n"
   ]
  },
  {
   "cell_type": "code",
   "execution_count": null,
   "id": "00232aca",
   "metadata": {},
   "outputs": [],
   "source": [
    " "
   ]
  }
 ],
 "metadata": {
  "kernelspec": {
   "display_name": "Python 3 (ipykernel)",
   "language": "python",
   "name": "python3"
  },
  "language_info": {
   "codemirror_mode": {
    "name": "ipython",
    "version": 3
   },
   "file_extension": ".py",
   "mimetype": "text/x-python",
   "name": "python",
   "nbconvert_exporter": "python",
   "pygments_lexer": "ipython3",
   "version": "3.11.5"
  }
 },
 "nbformat": 4,
 "nbformat_minor": 5
}
